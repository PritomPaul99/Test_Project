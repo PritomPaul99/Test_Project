{
 "cells": [
  {
   "cell_type": "markdown",
   "id": "ca36af09",
   "metadata": {},
   "source": [
    "# Built-in function"
   ]
  },
  {
   "cell_type": "code",
   "execution_count": null,
   "id": "74989cb8",
   "metadata": {},
   "outputs": [],
   "source": []
  },
  {
   "cell_type": "code",
   "execution_count": null,
   "id": "8e17e6c5",
   "metadata": {},
   "outputs": [
    {
     "name": "stdout",
     "output_type": "stream",
     "text": [
      "10.6\n",
      "11\n"
     ]
    }
   ],
   "source": [
    "# Round\n",
    "y  = 10.6\n",
    "print(y)\n",
    "y = round(y)\n",
    "print(y)\n",
    "\n"
   ]
  },
  {
   "cell_type": "code",
   "execution_count": 5,
   "id": "93004b5c",
   "metadata": {},
   "outputs": [
    {
     "name": "stdout",
     "output_type": "stream",
     "text": [
      "-10.7\n",
      "10.7\n"
     ]
    }
   ],
   "source": [
    "#  Absolute value\n",
    "y = -10.7\n",
    "print(y)\n",
    "print(abs(y))"
   ]
  },
  {
   "cell_type": "code",
   "execution_count": 13,
   "id": "6aec01b9",
   "metadata": {},
   "outputs": [
    {
     "data": {
      "text/plain": [
       "8.0"
      ]
     },
     "execution_count": 13,
     "metadata": {},
     "output_type": "execute_result"
    }
   ],
   "source": [
    "import math\n",
    "math.sqrt(64)"
   ]
  },
  {
   "cell_type": "code",
   "execution_count": 16,
   "id": "cd3ff4b3",
   "metadata": {},
   "outputs": [
    {
     "name": "stdout",
     "output_type": "stream",
     "text": [
      "-10.7\n"
     ]
    }
   ],
   "source": [
    "print(y)"
   ]
  },
  {
   "cell_type": "markdown",
   "id": "f3abb199",
   "metadata": {},
   "source": [
    "# Constant in Python"
   ]
  },
  {
   "cell_type": "code",
   "execution_count": 25,
   "id": "60897ddb",
   "metadata": {},
   "outputs": [],
   "source": [
    "from enum import Enum\n",
    "class Constant(Enum):\n",
    "    const1 = 100\n",
    "    const2 = 2"
   ]
  },
  {
   "cell_type": "code",
   "execution_count": 30,
   "id": "ca238b68",
   "metadata": {},
   "outputs": [
    {
     "data": {
      "text/plain": [
       "100"
      ]
     },
     "execution_count": 30,
     "metadata": {},
     "output_type": "execute_result"
    }
   ],
   "source": [
    "Constant.const1.value"
   ]
  },
  {
   "cell_type": "code",
   "execution_count": 21,
   "id": "dd13de71",
   "metadata": {},
   "outputs": [],
   "source": [
    "mango, orange, banana = range(3)"
   ]
  },
  {
   "cell_type": "code",
   "execution_count": 24,
   "id": "f9416e73",
   "metadata": {},
   "outputs": [
    {
     "name": "stdout",
     "output_type": "stream",
     "text": [
      "0\n",
      "1\n",
      "2\n"
     ]
    }
   ],
   "source": [
    "print(mango)\n",
    "print(orange)\n",
    "print(banana)"
   ]
  },
  {
   "cell_type": "markdown",
   "id": "1ce99097",
   "metadata": {},
   "source": [
    "# User Input"
   ]
  },
  {
   "cell_type": "code",
   "execution_count": 42,
   "id": "2d00cb86",
   "metadata": {},
   "outputs": [],
   "source": [
    "in1 = complex(input(\"Input a number: \"))"
   ]
  },
  {
   "cell_type": "code",
   "execution_count": 41,
   "id": "6db1db5f",
   "metadata": {},
   "outputs": [
    {
     "data": {
      "text/plain": [
       "(10+0j)"
      ]
     },
     "execution_count": 41,
     "metadata": {},
     "output_type": "execute_result"
    }
   ],
   "source": [
    "in1"
   ]
  },
  {
   "cell_type": "markdown",
   "id": "b579c40c",
   "metadata": {},
   "source": [
    "# Control Statement"
   ]
  },
  {
   "cell_type": "code",
   "execution_count": 45,
   "id": "9b4853b4",
   "metadata": {},
   "outputs": [
    {
     "name": "stdout",
     "output_type": "stream",
     "text": [
      "Nothing\n"
     ]
    }
   ],
   "source": [
    "# if-else\n",
    "if 10 > 90:\n",
    "    print(\"True\")\n",
    "elif 9 == 19:\n",
    "    print(\"True 2\")\n",
    "else:\n",
    "    print(\"Nothing\")"
   ]
  },
  {
   "cell_type": "code",
   "execution_count": 50,
   "id": "c2b6d12c",
   "metadata": {},
   "outputs": [
    {
     "name": "stdout",
     "output_type": "stream",
     "text": [
      "Nothing\n"
     ]
    }
   ],
   "source": [
    "# Ternary Operation\n",
    "res = print(\"10 is greater than 9\") if 10 < 9 else print(\"9 is smaller than 10\") if 9 == 10 else print(\"Nothing\")\n",
    "res"
   ]
  },
  {
   "cell_type": "markdown",
   "id": "cc0e8dcf",
   "metadata": {},
   "source": [
    "# Python List"
   ]
  },
  {
   "cell_type": "code",
   "execution_count": 57,
   "id": "9050ba08",
   "metadata": {},
   "outputs": [
    {
     "name": "stdout",
     "output_type": "stream",
     "text": [
      "[10, 20, 30]\n",
      "[1, 2, 3] <class 'list'>\n"
     ]
    }
   ],
   "source": [
    "# Define A list\n",
    "list1 = [10, 20, 30]\n",
    "print(list1)\n",
    "\n",
    "# Define using list constructor\n",
    "list2 = list((1, 2, 3))\n",
    "print(list2, type(list2))"
   ]
  },
  {
   "cell_type": "code",
   "execution_count": 58,
   "id": "2ed94d69",
   "metadata": {},
   "outputs": [
    {
     "name": "stdout",
     "output_type": "stream",
     "text": [
      "[1, 2, 3, 4]\n"
     ]
    }
   ],
   "source": [
    "# Add new element in a list\n",
    "# using append menthod\n",
    "list2.append(4)\n",
    "print(list2)"
   ]
  },
  {
   "cell_type": "code",
   "execution_count": 62,
   "id": "d5c5c59a",
   "metadata": {},
   "outputs": [
    {
     "name": "stdout",
     "output_type": "stream",
     "text": [
      "[1, 2, 3, 4, 5]\n"
     ]
    }
   ],
   "source": [
    "list2 = [1, 2, 3, 4]\n",
    "list2.append(5)\n",
    "print(list2)"
   ]
  },
  {
   "cell_type": "code",
   "execution_count": 64,
   "id": "fd6148b0",
   "metadata": {},
   "outputs": [
    {
     "name": "stdout",
     "output_type": "stream",
     "text": [
      "[1, 2, 3, 4, 5, 10, 11, 12]\n"
     ]
    }
   ],
   "source": [
    "# Using extend method\n",
    "list2.extend([10, 11, 12])\n",
    "print(list2)"
   ]
  },
  {
   "cell_type": "code",
   "execution_count": 65,
   "id": "74944072",
   "metadata": {},
   "outputs": [
    {
     "name": "stdout",
     "output_type": "stream",
     "text": [
      "[1, 2, 3, 4, 5, 10, 11, 12, 20, 21]\n"
     ]
    }
   ],
   "source": [
    "# using += operator\n",
    "list2 += [20, 21]\n",
    "print(list2)"
   ]
  },
  {
   "cell_type": "code",
   "execution_count": 72,
   "id": "d1469730",
   "metadata": {},
   "outputs": [
    {
     "data": {
      "text/plain": [
       "[21, 20, 12, 11, 10, 5, 4, 3, 2, 1]"
      ]
     },
     "execution_count": 72,
     "metadata": {},
     "output_type": "execute_result"
    }
   ],
   "source": [
    "# Remove element from list\n",
    "list2= [1, 2, 3, 4, 5, 10, 11, 12, 20, 21]\n",
    "\n",
    "list2.reverse()\n",
    "list2"
   ]
  },
  {
   "cell_type": "code",
   "execution_count": 78,
   "id": "15fd8e9b",
   "metadata": {},
   "outputs": [
    {
     "name": "stdout",
     "output_type": "stream",
     "text": [
      "True\n"
     ]
    }
   ],
   "source": [
    "#1\n",
    "list2.count(10)\n",
    "#2\n",
    "print(10 in list2)\n"
   ]
  },
  {
   "cell_type": "markdown",
   "id": "1370f07d",
   "metadata": {},
   "source": [
    "# Tuple\n",
    "1. Unchangeable\n",
    "2. Ordered\n",
    "3. Duplicate value is allowed"
   ]
  },
  {
   "cell_type": "code",
   "execution_count": 80,
   "id": "5ce4d1d0",
   "metadata": {},
   "outputs": [
    {
     "name": "stdout",
     "output_type": "stream",
     "text": [
      "(1, 2, 3) <class 'tuple'>\n"
     ]
    }
   ],
   "source": [
    "tup = (1, 2, 3)\n",
    "print(tup, type(tup))"
   ]
  },
  {
   "cell_type": "code",
   "execution_count": 81,
   "id": "624b5bd3",
   "metadata": {},
   "outputs": [
    {
     "data": {
      "text/plain": [
       "3"
      ]
     },
     "execution_count": 81,
     "metadata": {},
     "output_type": "execute_result"
    }
   ],
   "source": [
    "len(tup)"
   ]
  },
  {
   "cell_type": "code",
   "execution_count": 82,
   "id": "487a6319",
   "metadata": {},
   "outputs": [
    {
     "data": {
      "text/plain": [
       "1"
      ]
     },
     "execution_count": 82,
     "metadata": {},
     "output_type": "execute_result"
    }
   ],
   "source": [
    "tup.count(1)"
   ]
  },
  {
   "cell_type": "code",
   "execution_count": 84,
   "id": "d167838f",
   "metadata": {},
   "outputs": [
    {
     "data": {
      "text/plain": [
       "1"
      ]
     },
     "execution_count": 84,
     "metadata": {},
     "output_type": "execute_result"
    }
   ],
   "source": [
    "tup.index(2)"
   ]
  },
  {
   "cell_type": "code",
   "execution_count": 86,
   "id": "b8f4c701",
   "metadata": {},
   "outputs": [
    {
     "name": "stdout",
     "output_type": "stream",
     "text": [
      "[1, 2, 3]\n",
      "(1, 2, 3, 4) <class 'tuple'>\n"
     ]
    }
   ],
   "source": [
    "list3 = list(tup)\n",
    "print(list3)\n",
    "list3.append(4)\n",
    "tup = tuple(list3)\n",
    "print(tup, type(tup))"
   ]
  },
  {
   "cell_type": "markdown",
   "id": "af3d7854",
   "metadata": {},
   "source": [
    "# Set\n",
    "1. Unchangeable\n",
    "2. Unordered\n",
    "3. Unindexed\n",
    "4. No multiple value"
   ]
  },
  {
   "cell_type": "code",
   "execution_count": 88,
   "id": "8c51394d",
   "metadata": {},
   "outputs": [
    {
     "name": "stdout",
     "output_type": "stream",
     "text": [
      "{1, 2, 3, 4}\n"
     ]
    }
   ],
   "source": [
    "set1 = {3, 2 ,1, 4, 4}\n",
    "print(set1)"
   ]
  },
  {
   "cell_type": "markdown",
   "id": "f9c17e33",
   "metadata": {},
   "source": [
    "# Dictionary"
   ]
  },
  {
   "cell_type": "code",
   "execution_count": null,
   "id": "360b0735",
   "metadata": {},
   "outputs": [
    {
     "name": "stdout",
     "output_type": "stream",
     "text": [
      "Bus\n",
      "{'car': 'Volbo', 'bus': 'Ena', 'train': 'Joyontika'} <class 'dict'>\n"
     ]
    }
   ],
   "source": [
    "dict1 = {\"key\":\"value\", 1: \"car\", 2 : \"Bus\"}\n",
    "print(dict1[2])\n",
    "\n",
    "# Deefne using dict constructor\n",
    "dict2 = dict(car = \"Volbo\", bus = \"Ena\", train = \"Joyontika\")\n",
    "print(dict2, type(dict2))"
   ]
  },
  {
   "cell_type": "markdown",
   "id": "407fe8ed",
   "metadata": {},
   "source": [
    "# Loop"
   ]
  },
  {
   "cell_type": "markdown",
   "id": "b73f74a3",
   "metadata": {},
   "source": [
    "## For loop"
   ]
  },
  {
   "cell_type": "code",
   "execution_count": 108,
   "id": "fe133d62",
   "metadata": {},
   "outputs": [
    {
     "name": "stdout",
     "output_type": "stream",
     "text": [
      "0, 2, 4, 6, 8, \n",
      "0, 1, 2, 3, 4, 5, 6, 7, \n",
      "21, 20, 12, 11, 10, 5, 4, 3, 2, 1, \n",
      "H, e, l, l, o,  , w, o, r, l, d, "
     ]
    }
   ],
   "source": [
    "for i in range(0, 10, 2):\n",
    "    print(i, end=\", \")\n",
    "print()\n",
    "for i in range(8):\n",
    "    print(i, end=\", \")\n",
    "print()\n",
    "for i in list2:\n",
    "    print(i, end=\", \")\n",
    "\n",
    "print()\n",
    "for i in \"Hello world\":\n",
    "    print(i, end=\", \")"
   ]
  },
  {
   "cell_type": "markdown",
   "id": "01a3f496",
   "metadata": {},
   "source": [
    "## While Loop"
   ]
  },
  {
   "cell_type": "code",
   "execution_count": 114,
   "id": "ea34b5fe",
   "metadata": {},
   "outputs": [
    {
     "name": "stdout",
     "output_type": "stream",
     "text": [
      "0, 2, 4, 6, 8, 10, "
     ]
    }
   ],
   "source": [
    "i=-1\n",
    "while i < 10:\n",
    "    i += 1\n",
    "    if i % 2 != 0:\n",
    "        continue\n",
    "    print(i, end=\", \")"
   ]
  },
  {
   "cell_type": "code",
   "execution_count": null,
   "id": "a13d2f16",
   "metadata": {},
   "outputs": [],
   "source": []
  }
 ],
 "metadata": {
  "kernelspec": {
   "display_name": "base",
   "language": "python",
   "name": "python3"
  },
  "language_info": {
   "codemirror_mode": {
    "name": "ipython",
    "version": 3
   },
   "file_extension": ".py",
   "mimetype": "text/x-python",
   "name": "python",
   "nbconvert_exporter": "python",
   "pygments_lexer": "ipython3",
   "version": "3.12.5"
  }
 },
 "nbformat": 4,
 "nbformat_minor": 5
}
