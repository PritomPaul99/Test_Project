{
 "cells": [
  {
   "cell_type": "code",
   "execution_count": 1,
   "id": "1925ebf2",
   "metadata": {},
   "outputs": [],
   "source": [
    "def something():\n",
    "    print(\"Test!\")"
   ]
  },
  {
   "cell_type": "code",
   "execution_count": 2,
   "id": "40b524e1",
   "metadata": {},
   "outputs": [
    {
     "name": "stdout",
     "output_type": "stream",
     "text": [
      "Test!\n"
     ]
    }
   ],
   "source": [
    "something()"
   ]
  },
  {
   "cell_type": "markdown",
   "id": "6b5190d8",
   "metadata": {},
   "source": [
    "# Heading"
   ]
  },
  {
   "cell_type": "markdown",
   "id": "33506d85",
   "metadata": {},
   "source": []
  },
  {
   "cell_type": "code",
   "execution_count": 3,
   "id": "4fcbd3c8",
   "metadata": {},
   "outputs": [
    {
     "name": "stdout",
     "output_type": "stream",
     "text": [
      "10 <class 'int'>\n"
     ]
    }
   ],
   "source": [
    "a = 10\n",
    "print(a, type(a))"
   ]
  },
  {
   "cell_type": "code",
   "execution_count": 4,
   "id": "345f377e",
   "metadata": {},
   "outputs": [
    {
     "name": "stdout",
     "output_type": "stream",
     "text": [
      "10.0 <class 'float'>\n",
      "10 <class 'int'>\n"
     ]
    }
   ],
   "source": [
    "b = float(a)\n",
    "print(b, type(b))\n",
    "print(a, type(a))"
   ]
  },
  {
   "cell_type": "code",
   "execution_count": 5,
   "id": "6d4a0bdb",
   "metadata": {},
   "outputs": [
    {
     "name": "stdout",
     "output_type": "stream",
     "text": [
      "10.0 <class 'float'>\n"
     ]
    }
   ],
   "source": [
    "a = float(a)\n",
    "print(a, type(a))"
   ]
  },
  {
   "cell_type": "code",
   "execution_count": 6,
   "id": "c97904bd",
   "metadata": {},
   "outputs": [
    {
     "name": "stdout",
     "output_type": "stream",
     "text": [
      "(10+0j) <class 'complex'>\n"
     ]
    }
   ],
   "source": [
    "a = complex(a)\n",
    "print(a, type(a))"
   ]
  },
  {
   "cell_type": "code",
   "execution_count": null,
   "id": "c6019879",
   "metadata": {},
   "outputs": [
    {
     "name": "stdout",
     "output_type": "stream",
     "text": [
      "10 10.5 1000.0 500.0\n"
     ]
    }
   ],
   "source": [
    "# Intiger\n",
    "a = 10\n",
    "# Floating Point\n",
    "b = 10.5\n",
    "c = 10e2 # 10 x 10^2 = 1000\n",
    "d = 5E2 # 5 * 10^2 = 5 * 100 = 500\n",
    "print(a,b,c,d)"
   ]
  },
  {
   "cell_type": "markdown",
   "id": "975ea50d",
   "metadata": {},
   "source": [
    "## Random Number"
   ]
  },
  {
   "cell_type": "code",
   "execution_count": 8,
   "id": "e4857dd3",
   "metadata": {},
   "outputs": [],
   "source": [
    "import random"
   ]
  },
  {
   "cell_type": "code",
   "execution_count": 11,
   "id": "adc3c8c3",
   "metadata": {},
   "outputs": [
    {
     "name": "stdout",
     "output_type": "stream",
     "text": [
      "7\n"
     ]
    }
   ],
   "source": [
    "print(random.randrange(1, 20))"
   ]
  },
  {
   "cell_type": "markdown",
   "id": "8c091ddc",
   "metadata": {},
   "source": [
    "# Python String"
   ]
  },
  {
   "cell_type": "code",
   "execution_count": 12,
   "id": "3d91a43a",
   "metadata": {},
   "outputs": [
    {
     "name": "stdout",
     "output_type": "stream",
     "text": [
      "Hello, World! <class 'str'>\n"
     ]
    }
   ],
   "source": [
    "str1 = \"Hello, World!\" # 'Hello, World!'\n",
    "print(str1, type(str1))"
   ]
  },
  {
   "cell_type": "markdown",
   "id": "a540ce99",
   "metadata": {},
   "source": [
    "Multiline String"
   ]
  },
  {
   "cell_type": "code",
   "execution_count": 15,
   "id": "dae2be4b",
   "metadata": {},
   "outputs": [
    {
     "name": "stdout",
     "output_type": "stream",
     "text": [
      "This is a cat\n",
      "\n",
      "he lives in sylhet\n"
     ]
    }
   ],
   "source": [
    "str2 = \"\"\"This is a cat\n",
    "\n",
    "he lives in sylhet\"\"\"\n",
    "\n",
    "print(str2)"
   ]
  },
  {
   "cell_type": "code",
   "execution_count": 16,
   "id": "0c1084bc",
   "metadata": {},
   "outputs": [
    {
     "name": "stdout",
     "output_type": "stream",
     "text": [
      "o\n"
     ]
    }
   ],
   "source": [
    "print(str1[4])"
   ]
  },
  {
   "cell_type": "markdown",
   "id": "528f733f",
   "metadata": {},
   "source": [
    "for(int i = 0; i<10; i++)\n",
    "{\n",
    "    cout << i << endl;\n",
    "}"
   ]
  },
  {
   "cell_type": "code",
   "execution_count": 22,
   "id": "65f92b80",
   "metadata": {},
   "outputs": [
    {
     "name": "stdout",
     "output_type": "stream",
     "text": [
      "Hello, World!"
     ]
    }
   ],
   "source": [
    "for i in str1: # str1 = \"Hello, World!\", i = iterator\n",
    "    print(i, end=\"\")"
   ]
  },
  {
   "cell_type": "code",
   "execution_count": 23,
   "id": "0f5f8bae",
   "metadata": {},
   "outputs": [
    {
     "name": "stdout",
     "output_type": "stream",
     "text": [
      "13\n"
     ]
    }
   ],
   "source": [
    "# Length of a string\n",
    "print(len(str1))"
   ]
  },
  {
   "cell_type": "code",
   "execution_count": 26,
   "id": "146c8baa",
   "metadata": {},
   "outputs": [
    {
     "name": "stdout",
     "output_type": "stream",
     "text": [
      "True\n"
     ]
    }
   ],
   "source": [
    "print(\"a cat\" in str2)"
   ]
  },
  {
   "cell_type": "code",
   "execution_count": 28,
   "id": "10cbdb3b",
   "metadata": {},
   "outputs": [
    {
     "name": "stdout",
     "output_type": "stream",
     "text": [
      "True\n"
     ]
    }
   ],
   "source": [
    "print(\"a dog\" not in str2)"
   ]
  },
  {
   "cell_type": "code",
   "execution_count": 34,
   "id": "55191064",
   "metadata": {},
   "outputs": [
    {
     "name": "stdout",
     "output_type": "stream",
     "text": [
      "ello\n",
      "Hello\n",
      ", World!\n"
     ]
    }
   ],
   "source": [
    "# Strring Slicing\n",
    "# str1 = \"Hello, World!\" = \"Hello\"\n",
    "\n",
    "print(str1[1:5]) # [start of the index, the index before the targeted lasat index]\n",
    "print(str1[:5])\n",
    "print(str1[5:])"
   ]
  },
  {
   "cell_type": "code",
   "execution_count": 42,
   "id": "31d0fa8b",
   "metadata": {},
   "outputs": [
    {
     "name": "stdout",
     "output_type": "stream",
     "text": [
      "str3 ABCDDDDD\n",
      "STR3 abcd\n"
     ]
    }
   ],
   "source": [
    "# Uppercase & Lower Case\n",
    "str3 = \"abcddddd\"\n",
    "STR3 = \"ABCD\"\n",
    "\n",
    "print(\"str3\",str3.upper())\n",
    "print(\"STR3\",STR3.lower())\n"
   ]
  },
  {
   "cell_type": "code",
   "execution_count": 43,
   "id": "6b3900f3",
   "metadata": {},
   "outputs": [
    {
     "name": "stdout",
     "output_type": "stream",
     "text": [
      "abbcWW\n"
     ]
    }
   ],
   "source": [
    "# Character replace\n",
    "\n",
    "str6 = \"abbcdd\"\n",
    "\n",
    "print(str6.replace('d', 'W'))"
   ]
  },
  {
   "cell_type": "code",
   "execution_count": 45,
   "id": "7688a103",
   "metadata": {},
   "outputs": [
    {
     "name": "stdout",
     "output_type": "stream",
     "text": [
      "This is line 1 This is line 2\n"
     ]
    }
   ],
   "source": [
    "# String Concatinate\n",
    "\n",
    "a = \"This is line 1\"\n",
    "b = \"This is line 2\"\n",
    "\n",
    "c = a + \" \" + b\n",
    "\n",
    "print(c)"
   ]
  },
  {
   "cell_type": "code",
   "execution_count": 48,
   "id": "605678c8",
   "metadata": {},
   "outputs": [
    {
     "name": "stdout",
     "output_type": "stream",
     "text": [
      "abc\tdef\n"
     ]
    }
   ],
   "source": [
    "d = \"abc\\tdef\"\n",
    "print(d)"
   ]
  },
  {
   "cell_type": "markdown",
   "id": "d85f4349",
   "metadata": {},
   "source": [
    "# Python Operrator"
   ]
  },
  {
   "cell_type": "markdown",
   "id": "24aea098",
   "metadata": {},
   "source": [
    "### Arithmatic Operator\n",
    "+, -, /, *, **, %, //"
   ]
  },
  {
   "cell_type": "code",
   "execution_count": 56,
   "id": "417ee02d",
   "metadata": {},
   "outputs": [
    {
     "name": "stdout",
     "output_type": "stream",
     "text": [
      "5\n",
      "1\n",
      "6\n",
      "1.5\n",
      "1\n",
      "27\n",
      "2\n"
     ]
    }
   ],
   "source": [
    "print(3 + 2)\n",
    "print(3 - 2)\n",
    "print(3 * 2)\n",
    "print(3 / 2) # Floating point int number return\n",
    "print(3 // 2) # Floored integer return 10.9 ~ 10, 9.3 ~ 9\n",
    "print(3 ** 3)\n",
    "print(10 % 4) # 2 > n"
   ]
  },
  {
   "cell_type": "markdown",
   "id": "8fdd4741",
   "metadata": {},
   "source": [
    "### Assignment Operation\n",
    "+=, -=, *=, /=,**=, %="
   ]
  },
  {
   "cell_type": "code",
   "execution_count": 60,
   "id": "511bf6bf",
   "metadata": {},
   "outputs": [
    {
     "name": "stdout",
     "output_type": "stream",
     "text": [
      "13\n",
      "9\n",
      "9\n"
     ]
    }
   ],
   "source": [
    "a = 10\n",
    "a += 3 # a = a + 3\n",
    "print(a)\n",
    "\n",
    "a -= 4 # a = a - 4\n",
    "print(a)\n",
    "\n",
    "b = 3\n",
    "b **= 2 # b = b ** 2\n",
    "print(b)"
   ]
  },
  {
   "cell_type": "markdown",
   "id": "acf841ed",
   "metadata": {},
   "source": [
    "### Comparesionn Operation\n",
    "==, !=, >, <, >=, <="
   ]
  },
  {
   "cell_type": "code",
   "execution_count": 63,
   "id": "c29cd8df",
   "metadata": {},
   "outputs": [
    {
     "name": "stdout",
     "output_type": "stream",
     "text": [
      "True\n"
     ]
    }
   ],
   "source": [
    "print(3 <= 3)"
   ]
  },
  {
   "cell_type": "markdown",
   "id": "b86f376a",
   "metadata": {},
   "source": [
    "### Logical Operation\n",
    "and(&), or(|), ^(xor), ~(not)"
   ]
  },
  {
   "cell_type": "code",
   "execution_count": null,
   "id": "a32b4c82",
   "metadata": {},
   "outputs": [
    {
     "name": "stdout",
     "output_type": "stream",
     "text": [
      "1\n"
     ]
    }
   ],
   "source": [
    "print(1 | 0)"
   ]
  },
  {
   "cell_type": "markdown",
   "id": "a60261a3",
   "metadata": {},
   "source": [
    "# Operator Presidence\n",
    "B O D M A S"
   ]
  },
  {
   "cell_type": "code",
   "execution_count": 72,
   "id": "4e465b83",
   "metadata": {},
   "outputs": [
    {
     "name": "stdout",
     "output_type": "stream",
     "text": [
      "3\n",
      "13\n"
     ]
    }
   ],
   "source": [
    "expr = (2 + (3 - 2)) # (2 + 1) = 3\n",
    "print(expr)\n",
    "\n",
    "expr2 = (3 + 2 * 5)\n",
    "print(expr2)"
   ]
  },
  {
   "cell_type": "markdown",
   "id": "507ef055",
   "metadata": {},
   "source": [
    "# Python Collections\n",
    "1. List\n",
    "2. Tuple\n",
    "3. Set\n",
    "4. Dictionary"
   ]
  },
  {
   "cell_type": "markdown",
   "id": "f92f5d4f",
   "metadata": {},
   "source": [
    "## List\n",
    "- Ordered [Have index] {1, 2, 3, 4}x / {5(0), 3(1), 2(2), 1(3)}✓[variable[index]]\n",
    "- Changeable (1, 3, 2) -> (1, 5, 2)\n",
    "- Allows multiple similar varriable/element {2, 2, 1}\n",
    "- Allows multiple types of variable, [2, 3.5, \"string\"]"
   ]
  },
  {
   "cell_type": "code",
   "execution_count": null,
   "id": "fc5a49f4",
   "metadata": {},
   "outputs": [
    {
     "name": "stdout",
     "output_type": "stream",
     "text": [
      "[1, 2, 3, 4] <class 'list'>\n",
      "1 2\n",
      "[1, 10, 3, 4]\n",
      "[1, 2, 2, 3, 4, 4, 4]\n",
      "[1, 3.5, 'something']\n",
      "Length of list3: 3\n"
     ]
    }
   ],
   "source": [
    "list1 = [1, 2, 3, 4]\n",
    "print(list1, type(list1))\n",
    "print(list1[0], list1[1])\n",
    "\n",
    "list1[1] = 10\n",
    "print(list1)\n",
    "\n",
    "list2 = [1, 2, 2, 3, 4, 4, 4]\n",
    "print(list2)\n",
    "\n",
    "list3 = [1, 3.5, \"something\"]\n",
    "print(list3)\n",
    "\n",
    "print(\"Length of list3:\", len(list3))"
   ]
  },
  {
   "cell_type": "code",
   "execution_count": 79,
   "id": "e0c5e21b",
   "metadata": {},
   "outputs": [
    {
     "name": "stdout",
     "output_type": "stream",
     "text": [
      "[1, 3, 5, 7, 3, 3] <class 'list'>\n"
     ]
    }
   ],
   "source": [
    "# Defining lists using constructor\n",
    "list_c = list((1, 3, 5, 7, 3, 3))\n",
    "print(list_c, type(list_c))"
   ]
  },
  {
   "cell_type": "code",
   "execution_count": null,
   "id": "a4e121a2",
   "metadata": {},
   "outputs": [],
   "source": []
  }
 ],
 "metadata": {
  "kernelspec": {
   "display_name": "base",
   "language": "python",
   "name": "python3"
  },
  "language_info": {
   "codemirror_mode": {
    "name": "ipython",
    "version": 3
   },
   "file_extension": ".py",
   "mimetype": "text/x-python",
   "name": "python",
   "nbconvert_exporter": "python",
   "pygments_lexer": "ipython3",
   "version": "3.12.5"
  }
 },
 "nbformat": 4,
 "nbformat_minor": 5
}
