{
 "cells": [
  {
   "cell_type": "markdown",
   "id": "0b301aa1",
   "metadata": {},
   "source": [
    "# Pythom Function"
   ]
  },
  {
   "cell_type": "code",
   "execution_count": 1,
   "id": "d99ff42a",
   "metadata": {},
   "outputs": [],
   "source": [
    "def func():\n",
    "    print(\"This is a function\")"
   ]
  },
  {
   "cell_type": "code",
   "execution_count": 2,
   "id": "e4728977",
   "metadata": {},
   "outputs": [
    {
     "name": "stdout",
     "output_type": "stream",
     "text": [
      "This is a function\n"
     ]
    }
   ],
   "source": [
    "func()"
   ]
  },
  {
   "cell_type": "markdown",
   "id": "f6ccd71b",
   "metadata": {},
   "source": [
    "## Pass Keyword"
   ]
  },
  {
   "cell_type": "code",
   "execution_count": 3,
   "id": "4279baec",
   "metadata": {},
   "outputs": [],
   "source": [
    "def func1():\n",
    "    pass"
   ]
  },
  {
   "cell_type": "markdown",
   "id": "731c0d20",
   "metadata": {},
   "source": [
    "## Function Aurgument"
   ]
  },
  {
   "cell_type": "code",
   "execution_count": 4,
   "id": "975ee105",
   "metadata": {},
   "outputs": [
    {
     "name": "stdout",
     "output_type": "stream",
     "text": [
      "My name is:  Korim\n"
     ]
    }
   ],
   "source": [
    "def func2(name):\n",
    "    print(\"My name is: \", name)\n",
    "\n",
    "func2(\"Korim\")"
   ]
  },
  {
   "cell_type": "markdown",
   "id": "3e7cd6b0",
   "metadata": {},
   "source": []
  },
  {
   "cell_type": "code",
   "execution_count": null,
   "id": "f30bec8a",
   "metadata": {},
   "outputs": [],
   "source": []
  },
  {
   "cell_type": "code",
   "execution_count": null,
   "id": "4242915c",
   "metadata": {},
   "outputs": [],
   "source": []
  }
 ],
 "metadata": {
  "kernelspec": {
   "display_name": "base",
   "language": "python",
   "name": "python3"
  },
  "language_info": {
   "codemirror_mode": {
    "name": "ipython",
    "version": 3
   },
   "file_extension": ".py",
   "mimetype": "text/x-python",
   "name": "python",
   "nbconvert_exporter": "python",
   "pygments_lexer": "ipython3",
   "version": "3.12.5"
  }
 },
 "nbformat": 4,
 "nbformat_minor": 5
}
