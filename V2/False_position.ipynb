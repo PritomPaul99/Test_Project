{
 "cells": [
  {
   "cell_type": "code",
   "execution_count": 1,
   "id": "7063305f",
   "metadata": {},
   "outputs": [],
   "source": [
    "import matplotlib.pyplot as plt\n",
    "import numpy as np"
   ]
  },
  {
   "cell_type": "code",
   "execution_count": 3,
   "id": "01d45e07",
   "metadata": {},
   "outputs": [],
   "source": [
    "def falsePosition(x):\n",
    "    return (x**3)-x-1"
   ]
  },
  {
   "cell_type": "code",
   "execution_count": null,
   "id": "eaff5874",
   "metadata": {},
   "outputs": [
    {
     "data": {
      "text/plain": [
       "-0.12969240349599964"
      ]
     },
     "execution_count": 12,
     "metadata": {},
     "output_type": "execute_result"
    },
    {
     "ename": "",
     "evalue": "",
     "output_type": "error",
     "traceback": [
      "\u001b[1;31mThe Kernel crashed while executing code in the current cell or a previous cell. \n",
      "\u001b[1;31mPlease review the code in the cell(s) to identify a possible cause of the failure. \n",
      "\u001b[1;31mClick <a href='https://aka.ms/vscodeJupyterKernelCrash'>here</a> for more info. \n",
      "\u001b[1;31mView Jupyter <a href='command:jupyter.viewOutput'>log</a> for further details."
     ]
    }
   ],
   "source": [
    "falsePosition(1.2934)"
   ]
  },
  {
   "cell_type": "code",
   "execution_count": null,
   "id": "3791e88d",
   "metadata": {},
   "outputs": [],
   "source": [
    "x1 = 1\n",
    "x2 = 2\n",
    "\n"
   ]
  }
 ],
 "metadata": {
  "kernelspec": {
   "display_name": "base",
   "language": "python",
   "name": "python3"
  },
  "language_info": {
   "codemirror_mode": {
    "name": "ipython",
    "version": 3
   },
   "file_extension": ".py",
   "mimetype": "text/x-python",
   "name": "python",
   "nbconvert_exporter": "python",
   "pygments_lexer": "ipython3",
   "version": "3.12.5"
  }
 },
 "nbformat": 4,
 "nbformat_minor": 5
}
