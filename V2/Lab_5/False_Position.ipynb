{
 "cells": [
  {
   "cell_type": "code",
   "execution_count": 1,
   "id": "8233f594",
   "metadata": {},
   "outputs": [],
   "source": [
    "# False Position Method in Python with Approximate Relative Error\n",
    "\n",
    "def f(x):\n",
    "    # Define the function here\n",
    "    return x**3 - x - 2   # Example: f(x) = x^3 - x - 2\n"
   ]
  },
  {
   "cell_type": "code",
   "execution_count": 7,
   "id": "e1126e16",
   "metadata": {},
   "outputs": [],
   "source": [
    "\n",
    "def false_position(a, b, dp, max_iter=100):\n",
    "    tol_error=0.5 * 10**(2 - dp)\n",
    "    print(f\"es = {tol_error}\")\n",
    "    if f(a) * f(b) >= 0:\n",
    "        print(\"False Position method fails. f(a) and f(b) should have opposite signs.\")\n",
    "        return None\n",
    "\n",
    "    print(\"Iter\\t a\\t\\t b\\t\\t xr\\t\\t f(xr)\\t\\t Approx. Error (%)\")\n",
    "\n",
    "    xr_old = None\n",
    "\n",
    "    for i in range(1, max_iter + 1):\n",
    "        # Compute xr using False Position formula\n",
    "        xr_new = (a * f(b) - b * f(a)) / (f(b) - f(a))\n",
    "        fxr = f(xr_new)\n",
    "\n",
    "        # Approximate relative error\n",
    "        if xr_old is None:\n",
    "            error = None\n",
    "        else:\n",
    "            error = abs((xr_new - xr_old) / xr_new) * 100\n",
    "\n",
    "        if error is None:\n",
    "            print(f\"{i}\\t {a:.6f}\\t {b:.6f}\\t {xr_new:.6f}\\t {fxr:.6f}\\t {'-'}\")\n",
    "        else:\n",
    "            print(f\"{i}\\t {a:.6f}\\t {b:.6f}\\t {xr_new:.6f}\\t {fxr:.6f}\\t {error:.6f}\")\n",
    "\n",
    "        # Stopping criteria\n",
    "        if error is not None and error < tol_error:\n",
    "            print(f\"\\nApproximate root after {i} iterations: {xr_new:.6f}\")\n",
    "            print(f\"Final relative error: {error:.6f}%\")\n",
    "            return xr_new\n",
    "\n",
    "        # Update interval\n",
    "        if f(a) * fxr < 0:\n",
    "            b = xr_new\n",
    "        else:\n",
    "            a = xr_new\n",
    "\n",
    "        xr_old = xr_new\n",
    "\n",
    "    print(\"Max iterations reached.\")\n",
    "    return xr_new\n"
   ]
  },
  {
   "cell_type": "code",
   "execution_count": 8,
   "id": "65c0f25d",
   "metadata": {},
   "outputs": [
    {
     "name": "stdout",
     "output_type": "stream",
     "text": [
      "es = 0.0005\n",
      "Iter\t a\t\t b\t\t xr\t\t f(xr)\t\t Approx. Error (%)\n",
      "1\t 1.000000\t 2.000000\t 1.333333\t -0.962963\t -\n",
      "2\t 1.333333\t 2.000000\t 1.462687\t -0.333339\t 8.843537\n",
      "3\t 1.462687\t 2.000000\t 1.504019\t -0.101818\t 2.748133\n",
      "4\t 1.504019\t 2.000000\t 1.516331\t -0.029895\t 0.811931\n",
      "5\t 1.516331\t 2.000000\t 1.519919\t -0.008675\t 0.236064\n",
      "6\t 1.519919\t 2.000000\t 1.520957\t -0.002509\t 0.068308\n",
      "7\t 1.520957\t 2.000000\t 1.521258\t -0.000725\t 0.019738\n",
      "8\t 1.521258\t 2.000000\t 1.521344\t -0.000209\t 0.005701\n",
      "9\t 1.521344\t 2.000000\t 1.521370\t -0.000060\t 0.001647\n",
      "10\t 1.521370\t 2.000000\t 1.521377\t -0.000017\t 0.000476\n",
      "\n",
      "Approximate root after 10 iterations: 1.521377\n",
      "Final relative error: 0.000476%\n"
     ]
    }
   ],
   "source": [
    "# Example usage\n",
    "a = 1\n",
    "b = 2\n",
    "dp = 5\n",
    "root = false_position(a, b, dp)  # interval [1,2] for the test function"
   ]
  },
  {
   "cell_type": "code",
   "execution_count": null,
   "id": "689f3d68",
   "metadata": {},
   "outputs": [],
   "source": []
  }
 ],
 "metadata": {
  "kernelspec": {
   "display_name": "base",
   "language": "python",
   "name": "python3"
  },
  "language_info": {
   "codemirror_mode": {
    "name": "ipython",
    "version": 3
   },
   "file_extension": ".py",
   "mimetype": "text/x-python",
   "name": "python",
   "nbconvert_exporter": "python",
   "pygments_lexer": "ipython3",
   "version": "3.12.5"
  }
 },
 "nbformat": 4,
 "nbformat_minor": 5
}
