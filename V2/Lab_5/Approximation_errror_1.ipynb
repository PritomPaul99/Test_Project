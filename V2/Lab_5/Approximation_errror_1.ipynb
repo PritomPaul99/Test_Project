{
 "cells": [
  {
   "cell_type": "code",
   "execution_count": 2,
   "id": "457351e6",
   "metadata": {},
   "outputs": [],
   "source": [
    "import numpy as np\n",
    "import matplotlib.pyplot as plt\n",
    "import math"
   ]
  },
  {
   "cell_type": "code",
   "execution_count": 3,
   "id": "31c63cac",
   "metadata": {},
   "outputs": [],
   "source": [
    "def maclaurin(x, n):\n",
    "    return (x**n) / math.factorial(n)"
   ]
  },
  {
   "cell_type": "code",
   "execution_count": 4,
   "id": "f63cb6ac",
   "metadata": {},
   "outputs": [
    {
     "name": "stdout",
     "output_type": "stream",
     "text": [
      "0.5 0.05\n"
     ]
    }
   ],
   "source": [
    "x = 0.5\n",
    "es = (0.5 * 10**(2-3))\n",
    "tValue = 1.648721\n",
    "print(x, es)"
   ]
  },
  {
   "cell_type": "code",
   "execution_count": 5,
   "id": "40fdf19c",
   "metadata": {},
   "outputs": [
    {
     "name": "stdout",
     "output_type": "stream",
     "text": [
      "Term 0:\tResult: 1.0000\t\tTrue Error: 39.3469\t\tApproximmation Error: inf\n",
      "Term 1:\tResult: 1.5000\t\tTrue Error: 9.0204\t\tApproximmation Error: 33.3333\n",
      "Term 2:\tResult: 1.6250\t\tTrue Error: 1.4388\t\tApproximmation Error: 7.6923\n",
      "Term 3:\tResult: 1.6458\t\tTrue Error: 0.1751\t\tApproximmation Error: 1.2658\n",
      "Term 4:\tResult: 1.6484\t\tTrue Error: 0.0172\t\tApproximmation Error: 0.1580\n",
      "Term 5:\tResult: 1.6487\t\tTrue Error: 0.0014\t\tApproximmation Error: 0.0158\n"
     ]
    }
   ],
   "source": [
    "res = 0\n",
    "et = math.inf\n",
    "ea = math.inf\n",
    "i = 0\n",
    "prev = 0\n",
    "while 1:\n",
    "    if i > 50:\n",
    "        print(\"Maximun iteration reached.\")\n",
    "        break\n",
    "    res += maclaurin(x, i)\n",
    "    if i == 0:\n",
    "        prev = res\n",
    "    else:\n",
    "        ea = abs((res - prev) / res) * 100\n",
    "\n",
    "    prev = res\n",
    "    et = abs((tValue - res) / tValue) * 100\n",
    "\n",
    "    print(\n",
    "        f\"Term {i}:\\tResult: {res:.4f}\\t\\tTrue Error: {et:.4f}\\t\\tApproximmation Error: {ea:.4f}\"\n",
    "    )\n",
    "    i += 1\n",
    "    if not (et > es or ea > es):\n",
    "        break"
   ]
  },
  {
   "cell_type": "code",
   "execution_count": null,
   "id": "215c4392",
   "metadata": {},
   "outputs": [],
   "source": []
  }
 ],
 "metadata": {
  "kernelspec": {
   "display_name": "base",
   "language": "python",
   "name": "python3"
  },
  "language_info": {
   "codemirror_mode": {
    "name": "ipython",
    "version": 3
   },
   "file_extension": ".py",
   "mimetype": "text/x-python",
   "name": "python",
   "nbconvert_exporter": "python",
   "pygments_lexer": "ipython3",
   "version": "3.12.5"
  }
 },
 "nbformat": 4,
 "nbformat_minor": 5
}
