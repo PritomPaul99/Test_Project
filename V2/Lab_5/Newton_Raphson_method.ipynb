{
 "cells": [
  {
   "cell_type": "code",
   "execution_count": 3,
   "id": "9dfaa21c",
   "metadata": {},
   "outputs": [],
   "source": [
    "import numpy as np"
   ]
  },
  {
   "cell_type": "code",
   "execution_count": 18,
   "id": "292bed75",
   "metadata": {},
   "outputs": [
    {
     "name": "stdout",
     "output_type": "stream",
     "text": [
      "Iter\tx              \tf(x)           \tf'(x)          \tx_new          \tError\n",
      "1\t0.0000000000\t1.0000000000\t-2.0000000000\t0.5000000000\t1.0000000000\n",
      "2\t0.5000000000\t0.1065306597\t-1.6065306597\t0.5663110032\t0.1170929098\n",
      "3\t0.5663110032\t0.0013045098\t-1.5676155130\t0.5671431650\t0.0014672871\n",
      "4\t0.5671431650\t0.0000001965\t-1.5671433615\t0.5671432904\t0.0000002211\n",
      "5\t0.5671432904\t0.0000000000\t-1.5671432904\t0.5671432904\t0.0000000000\n",
      "\n",
      "Approximate root = 0.567143290409784, found in 5 iterations\n"
     ]
    }
   ],
   "source": [
    "# Define function and derivative\n",
    "def f(x):\n",
    "    return np.exp(-x) - x\n",
    "\n",
    "def df(x):\n",
    "    return -np.exp(-x) - 1\n",
    "\n",
    "def newton_raphson(x0, tol=1e-7, max_iter=100):\n",
    "    xr = x0\n",
    "\n",
    "    # print(f\"{'Iter':<5}{'x':<15}{'f(x)':<15}{'x_new':<15}{'Error':<15}\")\n",
    "    print(f\"{'Iter'}\\t{'x':15}\\t{'f(x)':15}\\t{'f\\'(x)':15}\\t{'x_new':15}\\t{'Error'}\")\n",
    "\n",
    "\n",
    "    for i in range(1, max_iter+1):\n",
    "        fx = f(xr)\n",
    "        dfx = df(xr)\n",
    "        if dfx == 0:\n",
    "            raise ValueError(\"Derivative became zero. Method fails.\")\n",
    "        \n",
    "        xr_new = xr - fx/dfx\n",
    "\n",
    "        ea = abs((xr_new - xr) / xr_new) if xr_new != 0 else None\n",
    "        \n",
    "        # print(f\"{i:<5}{xr:<15.8f}{fx:<15.8f}{xr_new:<15.8f}{(ea if ea else 0):<15.8f}\")\n",
    "        print(f\"{i}\\t{xr:5.10f}\\t{fx:5.10f}\\t{dfx:5.10f}\\t{xr_new:5.10f}\\t{(ea if ea else 0):5.10f}\")\n",
    "        \n",
    "        if ea is not None and ea < tol:\n",
    "            return xr_new, i\n",
    "        xr = xr_new\n",
    "    return xr, max_iter\n",
    "\n",
    "# Example run\n",
    "root, iterations = newton_raphson(0)   # initial guess near 1\n",
    "print(f\"\\nApproximate root = {root}, found in {iterations} iterations\")\n"
   ]
  },
  {
   "cell_type": "code",
   "execution_count": null,
   "id": "9b63d4f4",
   "metadata": {},
   "outputs": [],
   "source": []
  }
 ],
 "metadata": {
  "kernelspec": {
   "display_name": "base",
   "language": "python",
   "name": "python3"
  },
  "language_info": {
   "codemirror_mode": {
    "name": "ipython",
    "version": 3
   },
   "file_extension": ".py",
   "mimetype": "text/x-python",
   "name": "python",
   "nbconvert_exporter": "python",
   "pygments_lexer": "ipython3",
   "version": "3.12.5"
  }
 },
 "nbformat": 4,
 "nbformat_minor": 5
}
